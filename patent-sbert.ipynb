{
 "cells": [
  {
   "cell_type": "code",
   "execution_count": 1,
   "id": "e726d9fd-5ae1-4dbd-8636-e19ea680ca78",
   "metadata": {},
   "outputs": [
    {
     "name": "stdout",
     "output_type": "stream",
     "text": [
      "Enabling notebook extension jupyter-js-widgets/extension...\n",
      "      - Validating: \u001b[32mOK\u001b[0m\n"
     ]
    }
   ],
   "source": [
    "import torch\n",
    "from torch.utils.data import DataLoader\n",
    "import csv\n",
    "from tqdm.notebook import tqdm\n",
    "\n",
    "!jupyter nbextension enable --py widgetsnbextension"
   ]
  },
  {
   "cell_type": "code",
   "execution_count": 33,
   "id": "accff363-c021-44dd-8f55-aeab926ca687",
   "metadata": {},
   "outputs": [
    {
     "name": "stdout",
     "output_type": "stream",
     "text": [
      "Device: cpu\n"
     ]
    }
   ],
   "source": [
    "device = torch.device(\"cuda\" if torch.cuda.is_available() else \"cpu\")\n",
    "print(f\"Device: {device}\")"
   ]
  },
  {
   "cell_type": "code",
   "execution_count": 3,
   "id": "d48c1b1a-8407-47de-ba1d-7e834fa4dc4d",
   "metadata": {},
   "outputs": [
    {
     "data": {
      "text/html": [
       "<div>\n",
       "<style scoped>\n",
       "    .dataframe tbody tr th:only-of-type {\n",
       "        vertical-align: middle;\n",
       "    }\n",
       "\n",
       "    .dataframe tbody tr th {\n",
       "        vertical-align: top;\n",
       "    }\n",
       "\n",
       "    .dataframe thead th {\n",
       "        text-align: right;\n",
       "    }\n",
       "</style>\n",
       "<table border=\"1\" class=\"dataframe\">\n",
       "  <thead>\n",
       "    <tr style=\"text-align: right;\">\n",
       "      <th></th>\n",
       "      <th>id</th>\n",
       "      <th>anchor</th>\n",
       "      <th>target</th>\n",
       "      <th>context</th>\n",
       "      <th>score</th>\n",
       "    </tr>\n",
       "  </thead>\n",
       "  <tbody>\n",
       "    <tr>\n",
       "      <th>0</th>\n",
       "      <td>37d61fd2272659b1</td>\n",
       "      <td>abatement</td>\n",
       "      <td>abatement of pollution</td>\n",
       "      <td>A47</td>\n",
       "      <td>0.50</td>\n",
       "    </tr>\n",
       "    <tr>\n",
       "      <th>1</th>\n",
       "      <td>7b9652b17b68b7a4</td>\n",
       "      <td>abatement</td>\n",
       "      <td>act of abating</td>\n",
       "      <td>A47</td>\n",
       "      <td>0.75</td>\n",
       "    </tr>\n",
       "    <tr>\n",
       "      <th>2</th>\n",
       "      <td>36d72442aefd8232</td>\n",
       "      <td>abatement</td>\n",
       "      <td>active catalyst</td>\n",
       "      <td>A47</td>\n",
       "      <td>0.25</td>\n",
       "    </tr>\n",
       "    <tr>\n",
       "      <th>3</th>\n",
       "      <td>5296b0c19e1ce60e</td>\n",
       "      <td>abatement</td>\n",
       "      <td>eliminating process</td>\n",
       "      <td>A47</td>\n",
       "      <td>0.50</td>\n",
       "    </tr>\n",
       "    <tr>\n",
       "      <th>4</th>\n",
       "      <td>54c1e3b9184cb5b6</td>\n",
       "      <td>abatement</td>\n",
       "      <td>forest region</td>\n",
       "      <td>A47</td>\n",
       "      <td>0.00</td>\n",
       "    </tr>\n",
       "  </tbody>\n",
       "</table>\n",
       "</div>"
      ],
      "text/plain": [
       "                 id     anchor                  target context  score\n",
       "0  37d61fd2272659b1  abatement  abatement of pollution     A47   0.50\n",
       "1  7b9652b17b68b7a4  abatement          act of abating     A47   0.75\n",
       "2  36d72442aefd8232  abatement         active catalyst     A47   0.25\n",
       "3  5296b0c19e1ce60e  abatement     eliminating process     A47   0.50\n",
       "4  54c1e3b9184cb5b6  abatement           forest region     A47   0.00"
      ]
     },
     "execution_count": 3,
     "metadata": {},
     "output_type": "execute_result"
    }
   ],
   "source": [
    "import pandas as pd\n",
    "\n",
    "train_data_path = \"/home/liefe/data/public/us-patent/train.csv\"\n",
    "df = pd.read_csv(train_data_path)\n",
    "\n",
    "df.head() "
   ]
  },
  {
   "cell_type": "code",
   "execution_count": 4,
   "id": "9b0117dc-5c7f-4dc7-a73c-69a9a16c4bdf",
   "metadata": {},
   "outputs": [
    {
     "data": {
      "text/plain": [
       "36473"
      ]
     },
     "execution_count": 4,
     "metadata": {},
     "output_type": "execute_result"
    }
   ],
   "source": [
    "len(df)"
   ]
  },
  {
   "cell_type": "code",
   "execution_count": 5,
   "id": "12176dc2-b17f-45df-bd3c-a9a6de4f1f2c",
   "metadata": {},
   "outputs": [
    {
     "data": {
      "text/plain": [
       "array(['A47', 'A61', 'A62', 'C01', 'F16', 'F24', 'F28', 'H01', 'H04',\n",
       "       'B23', 'B41', 'D03', 'E03', 'C08', 'D01', 'D21', 'C07', 'A45',\n",
       "       'B01', 'B08', 'G04', 'G06', 'B65', 'G16', 'G01', 'A41', 'C23',\n",
       "       'F23', 'B25', 'A63', 'B28', 'B63', 'F04', 'B60', 'B32', 'C09',\n",
       "       'C02', 'G03', 'C10', 'B61', 'C21', 'F42', 'A23', 'C11', 'B29',\n",
       "       'F02', 'B62', 'B64', 'E21', 'B24', 'B22', 'H05', 'B27', 'E04',\n",
       "       'B21', 'D06', 'C04', 'B05', 'G02', 'H03', 'C06', 'G11', 'C12',\n",
       "       'E02', 'F15', 'A46', 'B66', 'G07', 'G08', 'C22', 'B44', 'A01',\n",
       "       'F03', 'C25', 'F22', 'G05', 'G21', 'B07', 'F41', 'E01', 'H02',\n",
       "       'C13', 'F01', 'F27', 'C14', 'A44', 'B67', 'A24', 'B02', 'E05',\n",
       "       'D05', 'F25', 'A43', 'A22', 'A21', 'E06', 'F21', 'G10', 'C03',\n",
       "       'B81', 'F17', 'B03', 'G09', 'D04', 'F26', 'B31'], dtype=object)"
      ]
     },
     "execution_count": 5,
     "metadata": {},
     "output_type": "execute_result"
    }
   ],
   "source": [
    "pd.unique(df.context)"
   ]
  },
  {
   "cell_type": "markdown",
   "id": "aa130455-d78a-4837-9f02-d705e1cec319",
   "metadata": {},
   "source": [
    "Number of domains/contexts"
   ]
  },
  {
   "cell_type": "code",
   "execution_count": 6,
   "id": "04e69066-cbae-4d8f-a81c-30fcb239cb67",
   "metadata": {},
   "outputs": [
    {
     "data": {
      "text/plain": [
       "106"
      ]
     },
     "execution_count": 6,
     "metadata": {},
     "output_type": "execute_result"
    }
   ],
   "source": [
    "len(pd.unique(df.context))"
   ]
  },
  {
   "cell_type": "code",
   "execution_count": 7,
   "id": "86f6dc63-fe1a-41a4-8c26-03651930b344",
   "metadata": {},
   "outputs": [
    {
     "data": {
      "text/plain": [
       "H01    2186\n",
       "H04    2177\n",
       "G01    1812\n",
       "A61    1477\n",
       "F16    1091\n",
       "       ... \n",
       "B03      47\n",
       "F17      33\n",
       "B31      24\n",
       "A62      23\n",
       "F26      18\n",
       "Name: context, Length: 106, dtype: int64"
      ]
     },
     "execution_count": 7,
     "metadata": {},
     "output_type": "execute_result"
    }
   ],
   "source": [
    "df.context.value_counts()"
   ]
  },
  {
   "cell_type": "markdown",
   "id": "bd4cf388-0c79-4ab8-a2e1-7f17d2c787f9",
   "metadata": {},
   "source": [
    "So classes are unbalanced, but this may affect performance\n"
   ]
  },
  {
   "cell_type": "code",
   "execution_count": 8,
   "id": "69143142-e2a9-4e7d-8d36-7c2e87f47e67",
   "metadata": {},
   "outputs": [
    {
     "data": {
      "text/html": [
       "<div>\n",
       "<style scoped>\n",
       "    .dataframe tbody tr th:only-of-type {\n",
       "        vertical-align: middle;\n",
       "    }\n",
       "\n",
       "    .dataframe tbody tr th {\n",
       "        vertical-align: top;\n",
       "    }\n",
       "\n",
       "    .dataframe thead th {\n",
       "        text-align: right;\n",
       "    }\n",
       "</style>\n",
       "<table border=\"1\" class=\"dataframe\">\n",
       "  <thead>\n",
       "    <tr style=\"text-align: right;\">\n",
       "      <th></th>\n",
       "      <th>score</th>\n",
       "    </tr>\n",
       "    <tr>\n",
       "      <th>context</th>\n",
       "      <th></th>\n",
       "    </tr>\n",
       "  </thead>\n",
       "  <tbody>\n",
       "    <tr>\n",
       "      <th>A01</th>\n",
       "      <td>0.367739</td>\n",
       "    </tr>\n",
       "    <tr>\n",
       "      <th>A21</th>\n",
       "      <td>0.400568</td>\n",
       "    </tr>\n",
       "    <tr>\n",
       "      <th>A22</th>\n",
       "      <td>0.410714</td>\n",
       "    </tr>\n",
       "    <tr>\n",
       "      <th>A23</th>\n",
       "      <td>0.328431</td>\n",
       "    </tr>\n",
       "    <tr>\n",
       "      <th>A24</th>\n",
       "      <td>0.360000</td>\n",
       "    </tr>\n",
       "    <tr>\n",
       "      <th>...</th>\n",
       "      <td>...</td>\n",
       "    </tr>\n",
       "    <tr>\n",
       "      <th>H01</th>\n",
       "      <td>0.359332</td>\n",
       "    </tr>\n",
       "    <tr>\n",
       "      <th>H02</th>\n",
       "      <td>0.372201</td>\n",
       "    </tr>\n",
       "    <tr>\n",
       "      <th>H03</th>\n",
       "      <td>0.367794</td>\n",
       "    </tr>\n",
       "    <tr>\n",
       "      <th>H04</th>\n",
       "      <td>0.346922</td>\n",
       "    </tr>\n",
       "    <tr>\n",
       "      <th>H05</th>\n",
       "      <td>0.350402</td>\n",
       "    </tr>\n",
       "  </tbody>\n",
       "</table>\n",
       "<p>106 rows × 1 columns</p>\n",
       "</div>"
      ],
      "text/plain": [
       "            score\n",
       "context          \n",
       "A01      0.367739\n",
       "A21      0.400568\n",
       "A22      0.410714\n",
       "A23      0.328431\n",
       "A24      0.360000\n",
       "...           ...\n",
       "H01      0.359332\n",
       "H02      0.372201\n",
       "H03      0.367794\n",
       "H04      0.346922\n",
       "H05      0.350402\n",
       "\n",
       "[106 rows x 1 columns]"
      ]
     },
     "execution_count": 8,
     "metadata": {},
     "output_type": "execute_result"
    }
   ],
   "source": [
    "df.groupby([\"context\"]).mean()"
   ]
  },
  {
   "cell_type": "code",
   "execution_count": 9,
   "id": "ba76053f-844c-4b21-8c9c-82a7c13d2cf6",
   "metadata": {},
   "outputs": [
    {
     "data": {
      "text/plain": [
       "0.50    12300\n",
       "0.25    11519\n",
       "0.00     7471\n",
       "0.75     4029\n",
       "1.00     1154\n",
       "Name: score, dtype: int64"
      ]
     },
     "execution_count": 9,
     "metadata": {},
     "output_type": "execute_result"
    }
   ],
   "source": [
    "df.score.value_counts()"
   ]
  },
  {
   "cell_type": "code",
   "execution_count": 10,
   "id": "c7de8b9b-4db7-4627-814d-8e560214c142",
   "metadata": {},
   "outputs": [],
   "source": [
    "from sentence_transformers import SentenceTransformer, SentencesDataset, InputExample, losses\n"
   ]
  },
  {
   "cell_type": "code",
   "execution_count": 11,
   "id": "15211b89-ed42-4ca4-b317-75512c600f90",
   "metadata": {},
   "outputs": [
    {
     "data": {
      "application/vnd.jupyter.widget-view+json": {
       "model_id": "0b4656f763734b1e9a519947fc1cbd55",
       "version_major": 2,
       "version_minor": 0
      },
      "text/plain": [
       "0it [00:00, ?it/s]"
      ]
     },
     "metadata": {},
     "output_type": "display_data"
    },
    {
     "data": {
      "text/plain": [
       "(array(['abatement', 'abatement of pollution'], dtype='<U98'), 0.5, 'A47')"
      ]
     },
     "execution_count": 11,
     "metadata": {},
     "output_type": "execute_result"
    }
   ],
   "source": [
    "import numpy as np\n",
    "\n",
    "pairs = []\n",
    "labels = []\n",
    "domains = []\n",
    "\n",
    "with open(train_data_path) as fp:\n",
    "    reader = csv.reader(fp, quotechar=\"\\\\\", quoting=csv.QUOTE_ALL)\n",
    "    next(reader)\n",
    "    for line in tqdm(reader):\n",
    "        # pairs.append(InputExample(texts=line[1:3], label=float(line[4])))\n",
    "        pairs.append((line[1], line[2]))\n",
    "        labels.append(float(line[4]))\n",
    "        domains.append(line[3])\n",
    "\n",
    "pairs = np.array(pairs)\n",
    "labels = np.array(labels, dtype=np.float32)\n",
    "domains = np.array(domains)\n",
    "\n",
    "pairs[0], labels[0], domains[0]"
   ]
  },
  {
   "cell_type": "code",
   "execution_count": 12,
   "id": "a87642ee-b870-4d57-9dae-5c153aedf7cd",
   "metadata": {},
   "outputs": [
    {
     "name": "stdout",
     "output_type": "stream",
     "text": [
      "36473 sentence pairs found\n"
     ]
    }
   ],
   "source": [
    "n = len(pairs)\n",
    "print(f\"{n} sentence pairs found\")\n",
    "\n",
    "pairs_indices = np.arange(len(pairs))\n"
   ]
  },
  {
   "cell_type": "code",
   "execution_count": 13,
   "id": "8cf99246-1e61-4be9-83fb-deea459af1be",
   "metadata": {},
   "outputs": [
    {
     "data": {
      "text/plain": [
       "(array([12826,  4440, 28484, ..., 26641, 15617, 33969]),\n",
       " array([['filled interior', 'bottom cap'],\n",
       "        ['carrier transportation', 'carrier deposition'],\n",
       "        ['rotary section', 'revolving section'],\n",
       "        ...,\n",
       "        ['pulsed plasma', 'plasma pulser circuit'],\n",
       "        ['hinge mechanisms', 'closing mechanism'],\n",
       "        ['tubular latch', 'door closer']], dtype='<U98'),\n",
       " array([0.25, 0.5 , 0.75, ..., 0.75, 0.25, 0.25], dtype=float32),\n",
       " array(['B29', 'G03', 'B21', ..., 'H05', 'E05', 'E05'], dtype='<U3'))"
      ]
     },
     "execution_count": 13,
     "metadata": {},
     "output_type": "execute_result"
    }
   ],
   "source": [
    "from sklearn.model_selection import train_test_split\n",
    "\n",
    "\n",
    "train_indices, test_indices, _, _ = train_test_split(pairs_indices, \n",
    "                                                    labels, \n",
    "                                                    test_size=.1, \n",
    "                                                    random_state=33,\n",
    "                                                    stratify=domains)\n",
    "\n",
    "test_indices, pairs[test_indices], labels[test_indices], domains[test_indices]"
   ]
  },
  {
   "cell_type": "code",
   "execution_count": 14,
   "id": "ac59886f-aa06-4e74-8d19-d9043a37b10d",
   "metadata": {},
   "outputs": [
    {
     "data": {
      "text/plain": [
       "(32825, 3648)"
      ]
     },
     "execution_count": 14,
     "metadata": {},
     "output_type": "execute_result"
    }
   ],
   "source": [
    "len(train_indices), len(test_indices)"
   ]
  },
  {
   "cell_type": "code",
   "execution_count": 15,
   "id": "46e47dc5-399d-4cca-a3a1-a86953e51028",
   "metadata": {},
   "outputs": [
    {
     "data": {
      "text/plain": [
       "(array(['locking formation', 'lock'], dtype='<U98'), 0.25, 'B24')"
      ]
     },
     "execution_count": 15,
     "metadata": {},
     "output_type": "execute_result"
    }
   ],
   "source": [
    "train_ds = pairs[train_indices]\n",
    "# test_ds = pairs[test_indices]\n",
    "train_labels = labels[train_indices]\n",
    "# test_labels = labels[test_indices]\n",
    "train_ds[0], train_labels[0], domains[train_indices][0]\n"
   ]
  },
  {
   "cell_type": "code",
   "execution_count": 16,
   "id": "b039b850-3cfa-477a-b65b-142715326162",
   "metadata": {},
   "outputs": [
    {
     "data": {
      "text/plain": [
       "(array(['faucet assembly', 'water supply assembly'], dtype='<U98'), 0.5, 'E03')"
      ]
     },
     "execution_count": 16,
     "metadata": {},
     "output_type": "execute_result"
    }
   ],
   "source": [
    "val_indices, test_indices, _, _  = train_test_split(test_indices,\n",
    "                                                            labels[test_indices], \n",
    "                                                                test_size=.5, \n",
    "                                                                random_state=33)\n",
    "                                                                #stratify=domains[test_indices])\n",
    "\n",
    "val_ds = pairs[val_indices]\n",
    "test_ds = pairs[test_indices]\n",
    "val_labels = labels[val_indices]\n",
    "test_labels = labels[test_indices]\n",
    "\n",
    "test_ds[0], test_labels[0], domains[test_indices][0]"
   ]
  },
  {
   "cell_type": "code",
   "execution_count": 17,
   "id": "09d8a507-41c8-430c-bad6-ed3ece9c1468",
   "metadata": {},
   "outputs": [],
   "source": [
    "# import random\n",
    "\n",
    "\n",
    "# print(len(pairs))\n",
    "# random.shuffle(pairs)\n",
    "# train_data = pairs[:int(.9*n)]\n",
    "# val_data = pairs[int(.9*n):]\n"
   ]
  },
  {
   "cell_type": "code",
   "execution_count": 18,
   "id": "7152082e-7e22-48c9-bda9-7e36ad656c18",
   "metadata": {},
   "outputs": [
    {
     "data": {
      "text/plain": [
       "(array(['further additional elements', 'additional manpower'], dtype='<U98'),\n",
       " 0.0)"
      ]
     },
     "execution_count": 18,
     "metadata": {},
     "output_type": "execute_result"
    }
   ],
   "source": [
    "train_pairs = []\n",
    "for idx, example in enumerate(train_ds):\n",
    "    train_pairs.append(InputExample(texts=example, label=train_labels[idx]))\n",
    "train_pairs[-1].texts, train_pairs[-1].label"
   ]
  },
  {
   "cell_type": "code",
   "execution_count": 19,
   "id": "89d00537-7ce8-42d1-add0-a74ec053d492",
   "metadata": {},
   "outputs": [
    {
     "data": {
      "text/plain": [
       "(array(['instruction processing', 'device information process'],\n",
       "       dtype='<U98'),\n",
       " 0.5)"
      ]
     },
     "execution_count": 19,
     "metadata": {},
     "output_type": "execute_result"
    }
   ],
   "source": [
    "val_pairs = []\n",
    "for idx, example in enumerate(val_ds):\n",
    "    val_pairs.append(InputExample(texts=example, label=val_labels[idx]))\n",
    "val_pairs[-1].texts, val_pairs[-1].label"
   ]
  },
  {
   "cell_type": "code",
   "execution_count": 20,
   "id": "213cb99e-fcb0-4bd2-9c89-345b0dcc9cce",
   "metadata": {},
   "outputs": [
    {
     "data": {
      "application/vnd.jupyter.widget-view+json": {
       "model_id": "588bbd78d69049b6b7e916b3710b73c0",
       "version_major": 2,
       "version_minor": 0
      },
      "text/plain": [
       "Downloading:   0%|          | 0.00/391 [00:00<?, ?B/s]"
      ]
     },
     "metadata": {},
     "output_type": "display_data"
    },
    {
     "data": {
      "application/vnd.jupyter.widget-view+json": {
       "model_id": "67cb19a982014188bfd5b7a625c85504",
       "version_major": 2,
       "version_minor": 0
      },
      "text/plain": [
       "Downloading:   0%|          | 0.00/9.08k [00:00<?, ?B/s]"
      ]
     },
     "metadata": {},
     "output_type": "display_data"
    },
    {
     "data": {
      "application/vnd.jupyter.widget-view+json": {
       "model_id": "e4698d669685452fb2a7760a5784fe29",
       "version_major": 2,
       "version_minor": 0
      },
      "text/plain": [
       "Downloading:   0%|          | 0.00/481 [00:00<?, ?B/s]"
      ]
     },
     "metadata": {},
     "output_type": "display_data"
    },
    {
     "data": {
      "application/vnd.jupyter.widget-view+json": {
       "model_id": "06462d4f5ede45fd9c7c702cf5ff856a",
       "version_major": 2,
       "version_minor": 0
      },
      "text/plain": [
       "Downloading:   0%|          | 0.00/603k [00:00<?, ?B/s]"
      ]
     },
     "metadata": {},
     "output_type": "display_data"
    },
    {
     "data": {
      "application/vnd.jupyter.widget-view+json": {
       "model_id": "6f4199dbb17e4ae6904211046813eb3e",
       "version_major": 2,
       "version_minor": 0
      },
      "text/plain": [
       "Downloading:   0%|          | 0.00/456k [00:00<?, ?B/s]"
      ]
     },
     "metadata": {},
     "output_type": "display_data"
    },
    {
     "data": {
      "application/vnd.jupyter.widget-view+json": {
       "model_id": "1f67f2c7e8fa47eaad906a632c4fad75",
       "version_major": 2,
       "version_minor": 0
      },
      "text/plain": [
       "Downloading:   0%|          | 0.00/501M [00:00<?, ?B/s]"
      ]
     },
     "metadata": {},
     "output_type": "display_data"
    },
    {
     "data": {
      "application/vnd.jupyter.widget-view+json": {
       "model_id": "cf90cdcb86814060bf766d80d574407c",
       "version_major": 2,
       "version_minor": 0
      },
      "text/plain": [
       "Downloading:   0%|          | 0.00/1.36M [00:00<?, ?B/s]"
      ]
     },
     "metadata": {},
     "output_type": "display_data"
    },
    {
     "data": {
      "application/vnd.jupyter.widget-view+json": {
       "model_id": "6cebec8b8c2442869874aa600981abff",
       "version_major": 2,
       "version_minor": 0
      },
      "text/plain": [
       "Downloading:   0%|          | 0.00/899k [00:00<?, ?B/s]"
      ]
     },
     "metadata": {},
     "output_type": "display_data"
    },
    {
     "name": "stderr",
     "output_type": "stream",
     "text": [
      "WARNING:root:No sentence-transformers model found with name /home/liefe/.cache/torch/sentence_transformers/roberta-base. Creating a new one with MEAN pooling.\n",
      "Some weights of the model checkpoint at /home/liefe/.cache/torch/sentence_transformers/roberta-base were not used when initializing RobertaModel: ['lm_head.dense.weight', 'lm_head.decoder.weight', 'lm_head.bias', 'lm_head.layer_norm.weight', 'lm_head.dense.bias', 'lm_head.layer_norm.bias']\n",
      "- This IS expected if you are initializing RobertaModel from the checkpoint of a model trained on another task or with another architecture (e.g. initializing a BertForSequenceClassification model from a BertForPreTraining model).\n",
      "- This IS NOT expected if you are initializing RobertaModel from the checkpoint of a model that you expect to be exactly identical (initializing a BertForSequenceClassification model from a BertForSequenceClassification model).\n"
     ]
    }
   ],
   "source": [
    "# model = SentenceTransformer('sentence-transformers/all-MiniLM-L6-v2')\n",
    "# model = SentenceTransformer(\"nghuyong/ernie-2.0-en\")?\\\n",
    "model_name = \"roberta-base\"\n",
    "model = SentenceTransformer(model_name)"
   ]
  },
  {
   "cell_type": "code",
   "execution_count": 21,
   "id": "da520e13-a9c4-4758-84d8-d30a1a1394f0",
   "metadata": {},
   "outputs": [],
   "source": [
    "loss = losses.CosineSimilarityLoss(model)"
   ]
  },
  {
   "cell_type": "code",
   "execution_count": 22,
   "id": "0d4bc045-56cd-4f39-8799-e5263549eaa3",
   "metadata": {},
   "outputs": [],
   "source": [
    "# train_ds = SentencesDataset(model, train_data)\n",
    "# val_ds = SentencesDataset(model, val_data)"
   ]
  },
  {
   "cell_type": "code",
   "execution_count": 23,
   "id": "2625f522-8b4a-474f-8c84-247ed014f1dc",
   "metadata": {},
   "outputs": [],
   "source": [
    "from torch.utils.data import DataLoader\n",
    "\n",
    "train_dl = DataLoader(train_pairs, shuffle=True, batch_size=8)\n",
    "# val_dl = DataLoader(val_pairs, shuffle=True, batch_size=8)\n"
   ]
  },
  {
   "cell_type": "code",
   "execution_count": 24,
   "id": "467516be-c84a-41bb-895b-bea237c96f64",
   "metadata": {},
   "outputs": [],
   "source": [
    "from sentence_transformers.evaluation import EmbeddingSimilarityEvaluator\n",
    "\n",
    "evaluator = EmbeddingSimilarityEvaluator.from_input_examples(val_pairs, name=model_name)"
   ]
  },
  {
   "cell_type": "code",
   "execution_count": 25,
   "id": "f284f34d-39e0-40b1-8e5d-655717113fa5",
   "metadata": {},
   "outputs": [],
   "source": [
    "# loss = losses.SoftmaxLoss(model, num_labels=5, sentence_embedding_dimension=model.get_sentence_embedding_dimension())"
   ]
  },
  {
   "cell_type": "code",
   "execution_count": 26,
   "id": "a901d6c9-8a8a-4555-8043-d5f776377ae7",
   "metadata": {},
   "outputs": [
    {
     "name": "stderr",
     "output_type": "stream",
     "text": [
      "/data/Projects/ericlief/us-patent/.venv/lib/python3.10/site-packages/transformers/optimization.py:306: FutureWarning: This implementation of AdamW is deprecated and will be removed in a future version. Use the PyTorch implementation torch.optim.AdamW instead, or set `no_deprecation_warning=True` to disable this warning\n",
      "  warnings.warn(\n"
     ]
    },
    {
     "data": {
      "application/vnd.jupyter.widget-view+json": {
       "model_id": "7dc547695b1e41918e8bce0a637a4bb3",
       "version_major": 2,
       "version_minor": 0
      },
      "text/plain": [
       "Epoch:   0%|          | 0/4 [00:00<?, ?it/s]"
      ]
     },
     "metadata": {},
     "output_type": "display_data"
    },
    {
     "data": {
      "application/vnd.jupyter.widget-view+json": {
       "model_id": "2f91e2ffc29548608fbe63c6504a4cf6",
       "version_major": 2,
       "version_minor": 0
      },
      "text/plain": [
       "Iteration:   0%|          | 0/4104 [00:00<?, ?it/s]"
      ]
     },
     "metadata": {},
     "output_type": "display_data"
    },
    {
     "data": {
      "application/vnd.jupyter.widget-view+json": {
       "model_id": "f34bd9f6f70849b88dcc29cd5509cd76",
       "version_major": 2,
       "version_minor": 0
      },
      "text/plain": [
       "Iteration:   0%|          | 0/4104 [00:00<?, ?it/s]"
      ]
     },
     "metadata": {},
     "output_type": "display_data"
    },
    {
     "data": {
      "application/vnd.jupyter.widget-view+json": {
       "model_id": "1b48d36836a54f16ad30c08a8dfea5dd",
       "version_major": 2,
       "version_minor": 0
      },
      "text/plain": [
       "Iteration:   0%|          | 0/4104 [00:00<?, ?it/s]"
      ]
     },
     "metadata": {},
     "output_type": "display_data"
    },
    {
     "data": {
      "application/vnd.jupyter.widget-view+json": {
       "model_id": "59ba8d9df0c74b469893c4c6ba82a3ec",
       "version_major": 2,
       "version_minor": 0
      },
      "text/plain": [
       "Iteration:   0%|          | 0/4104 [00:00<?, ?it/s]"
      ]
     },
     "metadata": {},
     "output_type": "display_data"
    }
   ],
   "source": [
    "model.fit(train_objectives=[(train_dl, loss)],\n",
    "          epochs = 4,\n",
    "          evaluator=evaluator,\n",
    "          evaluation_steps=500,\n",
    "          #evaluator=evaluator,\n",
    "          output_path=\"./\",\n",
    "          warmup_steps=100\n",
    "         )             "
   ]
  },
  {
   "cell_type": "code",
   "execution_count": 27,
   "id": "a8f1311c-aa01-4d60-be7b-ed186b5b5679",
   "metadata": {},
   "outputs": [
    {
     "data": {
      "text/plain": [
       "dtype('float32')"
      ]
     },
     "execution_count": 27,
     "metadata": {},
     "output_type": "execute_result"
    }
   ],
   "source": [
    "labels.dtype"
   ]
  },
  {
   "cell_type": "code",
   "execution_count": 28,
   "id": "84a12fb8-2cdb-410e-80ee-fce9b0504b26",
   "metadata": {},
   "outputs": [],
   "source": [
    "model.save(\"./models/\"+model_name.replace(\"/\", \"-\"), model_name=model_name)"
   ]
  },
  {
   "cell_type": "code",
   "execution_count": 29,
   "id": "6a8fc1d5-e981-4b77-94e9-b511e9209b50",
   "metadata": {},
   "outputs": [
    {
     "data": {
      "text/plain": [
       "(array(['sprayed', 'directly'], dtype='<U98'), 0.25)"
      ]
     },
     "execution_count": 29,
     "metadata": {},
     "output_type": "execute_result"
    }
   ],
   "source": [
    "test_pairs = []\n",
    "for idx, example in enumerate(test_ds):\n",
    "    test_pairs.append(InputExample(texts=example, label=test_labels[idx]))\n",
    "test_pairs[-1].texts, test_pairs[-1].label"
   ]
  },
  {
   "cell_type": "code",
   "execution_count": 31,
   "id": "a2be3405-37d4-42dd-8c05-8dae2ae1ecf0",
   "metadata": {},
   "outputs": [],
   "source": [
    "test_evaluator = EmbeddingSimilarityEvaluator.from_input_examples(test_pairs, name=\"test_eval\")"
   ]
  },
  {
   "cell_type": "code",
   "execution_count": 34,
   "id": "e75f86ed-e16a-4817-995f-0b5199b149ce",
   "metadata": {},
   "outputs": [],
   "source": [
    "max_score = model.evaluate(evaluator)"
   ]
  },
  {
   "cell_type": "code",
   "execution_count": 38,
   "id": "32ab46b0-917d-479c-99c2-830d75a6b235",
   "metadata": {},
   "outputs": [],
   "source": [
    "with open(\"./eval/\"+\"test_score\"+(\"_\"+model_name if model_name else \"\"), \"wt\") as fp:\n",
    "    fp.write(str(max_score))\n",
    "    "
   ]
  },
  {
   "cell_type": "code",
   "execution_count": null,
   "id": "fdfe2957-1f72-4025-a2f4-e29efa68e2b2",
   "metadata": {},
   "outputs": [],
   "source": []
  }
 ],
 "metadata": {
  "kernelspec": {
   "display_name": "Python (patent)",
   "language": "python",
   "name": "patent"
  },
  "language_info": {
   "codemirror_mode": {
    "name": "ipython",
    "version": 3
   },
   "file_extension": ".py",
   "mimetype": "text/x-python",
   "name": "python",
   "nbconvert_exporter": "python",
   "pygments_lexer": "ipython3",
   "version": "3.10.4"
  }
 },
 "nbformat": 4,
 "nbformat_minor": 5
}
